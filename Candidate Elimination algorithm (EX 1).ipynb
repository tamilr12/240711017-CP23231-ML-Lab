{
 "cells": [
  {
   "cell_type": "markdown",
   "id": "979f3e20-f302-4316-9b77-6c4833aa3196",
   "metadata": {},
   "source": [
    "Step 1: Importing Libraries\n"
   ]
  },
  {
   "cell_type": "code",
   "execution_count": null,
   "id": "8e82c0cc-e019-4608-85cd-0ffe52a526a8",
   "metadata": {},
   "outputs": [],
   "source": [
    "\n",
    "import numpy as np\n",
    "import pandas as pd\n"
   ]
  },
  {
   "cell_type": "markdown",
   "id": "e24d5592-795d-4d6a-abb7-fd33f2f9a4a0",
   "metadata": {},
   "source": [
    "Step 2: Reading Dataset\n"
   ]
  },
  {
   "cell_type": "code",
   "execution_count": 2,
   "id": "9e3f1a1a-d93b-48d7-bac3-566dfd4bb6b9",
   "metadata": {},
   "outputs": [],
   "source": [
    "data = pd.read_csv('2.csv')\n"
   ]
  },
  {
   "cell_type": "markdown",
   "id": "729de04d-4019-4152-80b7-2d82e4015382",
   "metadata": {},
   "source": [
    "Step 3: Preprocessing Data\n"
   ]
  },
  {
   "cell_type": "code",
   "execution_count": 3,
   "id": "5e6c1520-4818-43a7-a901-75a29fce5cc6",
   "metadata": {},
   "outputs": [],
   "source": [
    "concepts = np.array(data.iloc[:, :-1])  \n",
    "target = np.array(data.iloc[:, -1])"
   ]
  },
  {
   "cell_type": "markdown",
   "id": "5689dadd-16d8-4c87-a12b-f9c86585ceee",
   "metadata": {},
   "source": [
    "Step 4: Initializing Hypotheses\n",
    "\n"
   ]
  },
  {
   "cell_type": "code",
   "execution_count": 4,
   "id": "76561d05-ac33-4da7-9855-b397bda39840",
   "metadata": {},
   "outputs": [
    {
     "name": "stdout",
     "output_type": "stream",
     "text": [
      "Initial Specific Hypothesis: ['sunny' 'warm' 'normal' 'strong' 'warm' 'same']\n",
      "Initial General Hypothesis: [['?', '?', '?', '?', '?', '?'], ['?', '?', '?', '?', '?', '?'], ['?', '?', '?', '?', '?', '?'], ['?', '?', '?', '?', '?', '?'], ['?', '?', '?', '?', '?', '?'], ['?', '?', '?', '?', '?', '?']]\n"
     ]
    }
   ],
   "source": [
    "specific_h = concepts[0].copy()  # Start with first positive instance\n",
    "general_h = [[\"?\" for _ in range(len(specific_h))] for _ in range(len(specific_h))]\n",
    "print(\"Initial Specific Hypothesis:\", specific_h)\n",
    "print(\"Initial General Hypothesis:\", general_h)\n"
   ]
  },
  {
   "cell_type": "markdown",
   "id": "9dae4ee5-3a7a-45de-9182-2e7313e95ca4",
   "metadata": {},
   "source": [
    "Step 5: Training the Model\n"
   ]
  },
  {
   "cell_type": "code",
   "execution_count": 5,
   "id": "09eb1394-0b8b-4bf7-9171-739a513d31d7",
   "metadata": {},
   "outputs": [],
   "source": [
    "for i, h in enumerate(concepts):\n",
    "    if target[i] == \"yes\":  # Positive example\n",
    "        for x in range(len(specific_h)):\n",
    "            if h[x] != specific_h[x]:  # Generalize specific_h\n",
    "                specific_h[x] = '?'\n",
    "        for g in range(len(general_h)):\n",
    "            general_h[g][x] = '?'  # Generalize general_h\n",
    "    elif target[i] == \"no\":  # Negative example\n",
    "        for x in range(len(specific_h)):\n",
    "            if h[x] != specific_h[x]:  # Specialize general_h\n",
    "                general_h[x][x] = specific_h[x]\n"
   ]
  },
  {
   "cell_type": "markdown",
   "id": "1be89084-f181-4ec7-8a4b-ac6a05199401",
   "metadata": {},
   "source": [
    "Step 6: Refining General Hypothesis\n"
   ]
  },
  {
   "cell_type": "code",
   "execution_count": 6,
   "id": "cacd97a5-5f8d-4be1-a6d0-5740cf82ff8e",
   "metadata": {},
   "outputs": [],
   "source": [
    "indices = [i for i, val in enumerate(general_h) if val == ['?', '?', '?', '?', '?', '?']]\n",
    "for i in sorted(indices, reverse=True):\n",
    "    general_h.pop(i)\n"
   ]
  },
  {
   "cell_type": "markdown",
   "id": "397b3604-66ea-417a-a6d4-fc220dd44fee",
   "metadata": {},
   "source": [
    "Step 7: Printing Final Hypotheses"
   ]
  },
  {
   "cell_type": "code",
   "execution_count": 7,
   "id": "c7043571-78d8-4ca5-8455-435f0e7c4cdf",
   "metadata": {},
   "outputs": [
    {
     "name": "stdout",
     "output_type": "stream",
     "text": [
      "\n",
      "Final Specific Hypothesis: ['sunny' 'warm' '?' 'strong' '?' '?']\n",
      "Final General Hypothesis:\n",
      "['sunny', '?', '?', '?', '?', '?']\n",
      "['?', 'warm', '?', '?', '?', '?']\n"
     ]
    }
   ],
   "source": [
    "print(\"\\nFinal Specific Hypothesis:\", specific_h)\n",
    "print(\"Final General Hypothesis:\")\n",
    "for row in general_h:\n",
    "    print(row)\n",
    "\n"
   ]
  }
 ],
 "metadata": {
  "kernelspec": {
   "display_name": "Python 3 (ipykernel)",
   "language": "python",
   "name": "python3"
  },
  "language_info": {
   "codemirror_mode": {
    "name": "ipython",
    "version": 3
   },
   "file_extension": ".py",
   "mimetype": "text/x-python",
   "name": "python",
   "nbconvert_exporter": "python",
   "pygments_lexer": "ipython3",
   "version": "3.12.7"
  }
 },
 "nbformat": 4,
 "nbformat_minor": 5
}
